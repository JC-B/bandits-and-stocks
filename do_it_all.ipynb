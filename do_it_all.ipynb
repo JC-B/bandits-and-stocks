{
 "cells": [
  {
   "cell_type": "markdown",
   "metadata": {},
   "source": [
    "#### Comment"
   ]
  },
  {
   "cell_type": "code",
   "execution_count": 1,
   "metadata": {},
   "outputs": [],
   "source": [
    "reset -fs"
   ]
  },
  {
   "cell_type": "code",
   "execution_count": 2,
   "metadata": {},
   "outputs": [
    {
     "name": "stdout",
     "output_type": "stream",
     "text": [
      "Populating the interactive namespace from numpy and matplotlib\n"
     ]
    }
   ],
   "source": [
    "import time\n",
    "%pylab inline\n",
    "import matplotlib.pyplot as plt\n",
    "import matplotlib.image as mpimg"
   ]
  },
  {
   "cell_type": "markdown",
   "metadata": {},
   "source": [
    "#### Reverse data in data file - one time operation for Google Finance data that is in ascending order"
   ]
  },
  {
   "cell_type": "code",
   "execution_count": 3,
   "metadata": {},
   "outputs": [],
   "source": [
    "#%run reverse-data.py stocks/f500"
   ]
  },
  {
   "cell_type": "code",
   "execution_count": 4,
   "metadata": {},
   "outputs": [],
   "source": [
    "#%run reverse-data.py stocks/random-stocks"
   ]
  },
  {
   "cell_type": "markdown",
   "metadata": {},
   "source": [
    "#### Prepare data datewise with ticker-openprice and ticker-closeprice as columns for all stocks"
   ]
  },
  {
   "cell_type": "code",
   "execution_count": 5,
   "metadata": {},
   "outputs": [],
   "source": [
    "#% run build-dataset.py"
   ]
  },
  {
   "cell_type": "markdown",
   "metadata": {},
   "source": [
    "#### Run random bandit experiment on Fortune500 and other stocks"
   ]
  },
  {
   "cell_type": "code",
   "execution_count": 6,
   "metadata": {},
   "outputs": [
    {
     "name": "stdout",
     "output_type": "stream",
     "text": [
      "(Expected payoff, variance) over 5000 trials is '1.121, 0.463'\n",
      "For a single run: \n",
      "Payoff was 2.53\n",
      "Regret was 1.50\n",
      "Best stock was amzn at 4.02\n",
      "\n",
      "(Expected payoff, variance) over 5000 trials is '-0.237, 1.141'\n",
      "For a single run: \n",
      "Payoff was 0.04\n",
      "Regret was 1.87\n",
      "Best stock was htr at 1.91\n",
      "\n",
      "IPython CPU timings (estimated):\n",
      "  User   :     113.61 s.\n",
      "  System :       0.54 s.\n",
      "Wall time:     114.47 s.\n"
     ]
    }
   ],
   "source": [
    "%run -t random-stocks.py"
   ]
  },
  {
   "cell_type": "markdown",
   "metadata": {},
   "source": [
    "![](images/random-bandits-f500-rewards.png)"
   ]
  },
  {
   "cell_type": "markdown",
   "metadata": {},
   "source": [
    "![](images/random-bandits-random-stocks-rewards.png)"
   ]
  },
  {
   "cell_type": "markdown",
   "metadata": {},
   "source": [
    "#### Run Exp3 bandit experiment on Fortune500 and other stocks"
   ]
  },
  {
   "cell_type": "code",
   "execution_count": 7,
   "metadata": {},
   "outputs": [
    {
     "name": "stdout",
     "output_type": "stream",
     "text": [
      "----F500----\n",
      "(Expected payoff, variance) over 5000 trials is '1.121, 0.468'\n",
      "For a single run: \n",
      "Payoff was 0.15\n",
      "Regret was 3.88\n",
      "Best stock was amzn at 4.02\n",
      "tickers: ['wmt', 'amzn', 'cost', 'gs', 'wfc', 'tgt', 'jpm', 'aapl', 'msft']\n",
      "weights: '0.111, 0.111, 0.111, 0.111, 0.111, 0.111, 0.111, 0.111, 0.111'\n",
      "\n",
      "----Random Stocks----\n",
      "gamma is 0.10\n",
      "(Expected payoff, variance) over 5000 trials is '-0.244, 1.137'\n",
      "For a single run: \n",
      "Payoff was 1.00\n",
      "Regret was 0.91\n",
      "Best stock was htr at 1.91\n",
      "tickers: ['belfb', 'tdi', 'htr', 'keg', 'brks', 'cuba', 'mux', 'cadx', 'lxrx']\n",
      "weights: '0.111, 0.111, 0.111, 0.111, 0.111, 0.112, 0.111, 0.111, 0.111'\n",
      "\n",
      "IPython CPU timings (estimated):\n",
      "  User   :     303.16 s.\n",
      "  System :       1.16 s.\n",
      "Wall time:     305.58 s.\n"
     ]
    }
   ],
   "source": [
    "%run -t exp3-stocks.py"
   ]
  },
  {
   "cell_type": "markdown",
   "metadata": {},
   "source": [
    "![](images/exp3-f500-rewards-gamma-0.1.png)"
   ]
  },
  {
   "cell_type": "markdown",
   "metadata": {},
   "source": [
    "![](images/exp3-random-stocks-rewards-gamma-0.1.png)"
   ]
  },
  {
   "cell_type": "markdown",
   "metadata": {},
   "source": [
    "#### Run Ucb1 bandit experiment on Fortune500 and other stocks"
   ]
  },
  {
   "cell_type": "code",
   "execution_count": 8,
   "metadata": {},
   "outputs": [
    {
     "name": "stdout",
     "output_type": "stream",
     "text": [
      "----F500----\n",
      "(Expected payoff, variance) over 5000 trials is '3.528, 0.008'\n",
      "For a single run: \n",
      "Payoff was 3.41\n",
      "Regret was 0.61\n",
      "Best stock was amzn at 4.02\n",
      "ucbs: '0.078, 0.078, 0.079, 0.078, 0.079, 0.078, 0.078, 0.078, 0.078'\n",
      "\n",
      "----Random Stocks----\n",
      "(Expected payoff, variance) over 5000 trials is '0.683, 0.041'\n",
      "For a single run: \n",
      "Payoff was 0.66\n",
      "Regret was 1.25\n",
      "Best stock was htr at 1.91\n",
      "ucbs: '0.106, 0.107, 0.105, 0.104, 0.106, 0.106, 0.106, 0.103, 0.105'\n",
      "\n",
      "IPython CPU timings (estimated):\n",
      "  User   :     320.59 s.\n",
      "  System :       0.97 s.\n",
      "Wall time:     322.38 s.\n"
     ]
    }
   ],
   "source": [
    "%run -t ucb1-stocks.py"
   ]
  },
  {
   "cell_type": "markdown",
   "metadata": {},
   "source": [
    "![](images/ucb1-f500-rewards.png)"
   ]
  },
  {
   "cell_type": "markdown",
   "metadata": {},
   "source": [
    "![](images/ucb1-random-stocks-rewards.png)"
   ]
  },
  {
   "cell_type": "code",
   "execution_count": null,
   "metadata": {},
   "outputs": [],
   "source": []
  }
 ],
 "metadata": {
  "kernelspec": {
   "display_name": "Python 3",
   "language": "python",
   "name": "python3"
  },
  "language_info": {
   "codemirror_mode": {
    "name": "ipython",
    "version": 3
   },
   "file_extension": ".py",
   "mimetype": "text/x-python",
   "name": "python",
   "nbconvert_exporter": "python",
   "pygments_lexer": "ipython3",
   "version": "3.6.3"
  }
 },
 "nbformat": 4,
 "nbformat_minor": 2
}
